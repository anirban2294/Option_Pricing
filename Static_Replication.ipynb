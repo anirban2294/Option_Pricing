{
 "cells": [
  {
   "cell_type": "code",
   "execution_count": 1,
   "metadata": {},
   "outputs": [],
   "source": [
    "import pandas as pd\n",
    "import numpy as np\n",
    "import datetime as dt\n",
    "import math\n",
    "import array\n",
    "\n",
    "from scipy.stats import norm\n",
    "from scipy.optimize import brentq\n",
    "from scipy.optimize import least_squares\n",
    "from scipy.integrate import quad\n",
    "\n",
    "import matplotlib.pylab as plt\n",
    "\n",
    "import warnings\n",
    "warnings.filterwarnings(\"ignore\")"
   ]
  },
  {
   "cell_type": "markdown",
   "metadata": {},
   "source": [
    "## For SPX"
   ]
  },
  {
   "cell_type": "markdown",
   "metadata": {},
   "source": [
    "## Black Scholes Model"
   ]
  },
  {
   "cell_type": "code",
   "execution_count": 2,
   "metadata": {},
   "outputs": [],
   "source": [
    "#Given,On 1-Dec-2020, the S&P500 (SPX) index value was 3662.45, while the SPDR S&P500 Exchange Traded Fund (SPY) stock price was 366.02\n",
    "S_spx = 3662.45\n",
    "S_spy = 366.02"
   ]
  },
  {
   "cell_type": "code",
   "execution_count": 3,
   "metadata": {},
   "outputs": [],
   "source": [
    "df = pd.read_csv('SPX_options.csv')\n",
    "rates_df = pd.read_csv('zero_rates_20201201.csv')"
   ]
  },
  {
   "cell_type": "code",
   "execution_count": 4,
   "metadata": {},
   "outputs": [],
   "source": [
    "#Filter for only expiries of 15th Jan 2021\n",
    "df = df[df[\"exdate\"] == df[\"exdate\"].unique()[1]].reset_index(drop = True)"
   ]
  },
  {
   "cell_type": "code",
   "execution_count": 5,
   "metadata": {},
   "outputs": [],
   "source": [
    "df[\"date\"] = pd.to_datetime(df['date'], format='%Y%m%d')\n",
    "df[\"exdate\"] = pd.to_datetime(df['exdate'], format='%Y%m%d')\n",
    "df['Strike'] = (df['strike_price'])/1000\n",
    "df['Payoff'] = np.where(df['cp_flag']==\"C\",\"Call\",\"Put\")\n",
    "df['Price'] = (df['best_bid'] + df['best_offer'])/2\n",
    "\n",
    "#Below values are constant\n",
    "T = (df[\"exdate\"][0] - df[\"date\"][0]).days/365\n",
    "r = np.interp((df[\"exdate\"][0] - df[\"date\"][0]).days, rates_df[\"days\"], rates_df[\"rate\"])/100\n",
    "F = S_spx*np.exp(r*T)"
   ]
  },
  {
   "cell_type": "code",
   "execution_count": 6,
   "metadata": {},
   "outputs": [],
   "source": [
    "#Define the Black Scholes implied vol calculator function \n",
    "\n",
    "def BlackScholesVanillaCall(S, K, r, sigma, T):\n",
    "    d1 = (np.log(S/K)+(r+sigma**2/2)*T) / (sigma*np.sqrt(T))\n",
    "    d2 = d1 - sigma*np.sqrt(T)\n",
    "    return S*norm.cdf(d1) - K*np.exp(-r*T)*norm.cdf(d2)\n",
    "\n",
    "def BlackScholesVanillaPut(S, K, r, sigma, T):\n",
    "    d1 = (np.log(S/K)+(r+sigma**2/2)*T) / (sigma*np.sqrt(T))\n",
    "    d2 = d1 - sigma*np.sqrt(T)\n",
    "    return K*np.exp(-r*T)*norm.cdf(-d2) - S*norm.cdf(-d1)\n",
    "\n",
    "def impliedVolatility(S, K, r, price, T, payoff):\n",
    "    try:\n",
    "        if (payoff.lower() == 'call'):\n",
    "            impliedVol = brentq(lambda x: price -\n",
    "                                BlackScholesVanillaCall(S, K, r, x, T),\n",
    "                                a = 1e-12,b = 10.0)\n",
    "        elif (payoff.lower() == 'put'):\n",
    "            impliedVol = brentq(lambda x: price -\n",
    "                                BlackScholesVanillaPut(S, K, r, x, T),\n",
    "                                1e-12, 10.0)\n",
    "        else:\n",
    "            raise NameError('Payoff type not recognized')\n",
    "    except Exception:\n",
    "        impliedVol = np.nan\n",
    "\n",
    "    return impliedVol"
   ]
  },
  {
   "cell_type": "code",
   "execution_count": 7,
   "metadata": {},
   "outputs": [],
   "source": [
    "df_atm = df[df['Strike'] == 3660].reset_index(drop=True)"
   ]
  },
  {
   "cell_type": "code",
   "execution_count": 8,
   "metadata": {},
   "outputs": [],
   "source": [
    "#Calculate Market Implied Vols\n",
    "df_atm[\"BS_ImpliedVol\"] = False\n",
    "\n",
    "for i in range(0,len(df_atm)):\n",
    "    df_atm[\"BS_ImpliedVol\"][i] = impliedVolatility(S_spx, df_atm['Strike'][i], r, df_atm['Price'][i], T, df_atm['Payoff'][i])"
   ]
  },
  {
   "cell_type": "code",
   "execution_count": 9,
   "metadata": {},
   "outputs": [
    {
     "data": {
      "text/html": [
       "<div>\n",
       "<style scoped>\n",
       "    .dataframe tbody tr th:only-of-type {\n",
       "        vertical-align: middle;\n",
       "    }\n",
       "\n",
       "    .dataframe tbody tr th {\n",
       "        vertical-align: top;\n",
       "    }\n",
       "\n",
       "    .dataframe thead th {\n",
       "        text-align: right;\n",
       "    }\n",
       "</style>\n",
       "<table border=\"1\" class=\"dataframe\">\n",
       "  <thead>\n",
       "    <tr style=\"text-align: right;\">\n",
       "      <th></th>\n",
       "      <th>date</th>\n",
       "      <th>exdate</th>\n",
       "      <th>cp_flag</th>\n",
       "      <th>strike_price</th>\n",
       "      <th>best_bid</th>\n",
       "      <th>best_offer</th>\n",
       "      <th>exercise_style</th>\n",
       "      <th>Strike</th>\n",
       "      <th>Payoff</th>\n",
       "      <th>Price</th>\n",
       "      <th>BS_ImpliedVol</th>\n",
       "    </tr>\n",
       "  </thead>\n",
       "  <tbody>\n",
       "    <tr>\n",
       "      <th>0</th>\n",
       "      <td>2020-12-01</td>\n",
       "      <td>2021-01-15</td>\n",
       "      <td>C</td>\n",
       "      <td>3660000</td>\n",
       "      <td>94.5</td>\n",
       "      <td>95.4</td>\n",
       "      <td>E</td>\n",
       "      <td>3660.0</td>\n",
       "      <td>Call</td>\n",
       "      <td>94.95</td>\n",
       "      <td>0.044298</td>\n",
       "    </tr>\n",
       "    <tr>\n",
       "      <th>1</th>\n",
       "      <td>2020-12-01</td>\n",
       "      <td>2021-01-15</td>\n",
       "      <td>P</td>\n",
       "      <td>3660000</td>\n",
       "      <td>94.8</td>\n",
       "      <td>95.5</td>\n",
       "      <td>E</td>\n",
       "      <td>3660.0</td>\n",
       "      <td>Put</td>\n",
       "      <td>95.15</td>\n",
       "      <td>0.270597</td>\n",
       "    </tr>\n",
       "  </tbody>\n",
       "</table>\n",
       "</div>"
      ],
      "text/plain": [
       "        date     exdate cp_flag  strike_price  best_bid  best_offer  \\\n",
       "0 2020-12-01 2021-01-15       C       3660000      94.5        95.4   \n",
       "1 2020-12-01 2021-01-15       P       3660000      94.8        95.5   \n",
       "\n",
       "  exercise_style  Strike Payoff  Price BS_ImpliedVol  \n",
       "0              E  3660.0   Call  94.95      0.044298  \n",
       "1              E  3660.0    Put  95.15      0.270597  "
      ]
     },
     "execution_count": 9,
     "metadata": {},
     "output_type": "execute_result"
    }
   ],
   "source": [
    "df_atm"
   ]
  },
  {
   "cell_type": "code",
   "execution_count": 10,
   "metadata": {},
   "outputs": [
    {
     "data": {
      "text/plain": [
       "0.15744743065886121"
      ]
     },
     "execution_count": 10,
     "metadata": {},
     "output_type": "execute_result"
    }
   ],
   "source": [
    "sigma_atm = (df_atm[\"BS_ImpliedVol\"][0] + df_atm[\"BS_ImpliedVol\"][1]) / 2\n",
    "sigma_atm"
   ]
  },
  {
   "cell_type": "markdown",
   "metadata": {},
   "source": [
    "### Payoff function:"
   ]
  },
  {
   "cell_type": "markdown",
   "metadata": {},
   "source": [
    "For any twice-differentiable payoff $h(S_T)$, Breeden-Litzenberger states that\n",
    "\n",
    "\\begin{equation*}\n",
    "    \\begin{split}\n",
    "      V_0 = e^{-rT}h(F) + \\underbrace{\\int_0^{F}h''(K)P(K)\\;dK}_{\\mbox{put integral}} + \\underbrace{\\int_{F}^{\\infty}h''(K)C(K)\\;dK}_{\\mbox{call integral}}\\\\\n",
    "    \\end{split}\n",
    "\\end{equation*}\n",
    "\n",
    "  "
   ]
  },
  {
   "cell_type": "code",
   "execution_count": 11,
   "metadata": {},
   "outputs": [],
   "source": [
    "def h(St):\n",
    "    return St**(1/3) + 1.5* math.log(St) + 10\n",
    "\n",
    "def hprimeprime(K):\n",
    "    return -2/(9*K**(5/3)) - 1.5/K**(2)"
   ]
  },
  {
   "cell_type": "code",
   "execution_count": 12,
   "metadata": {},
   "outputs": [],
   "source": [
    "def BlackScholesCallIntegrand(K, S, r, sigma, T):\n",
    "    price = BlackScholesVanillaCall(S, K, r, sigma, T) * hprimeprime(K)\n",
    "    return price\n",
    "\n",
    "def BlackScholesPutIntegrand(K, S, r, sigma, T):\n",
    "    price = BlackScholesVanillaPut(S, K, r, sigma, T) * hprimeprime(K)\n",
    "    return price"
   ]
  },
  {
   "cell_type": "code",
   "execution_count": 13,
   "metadata": {},
   "outputs": [],
   "source": [
    "I_put = quad(lambda x: BlackScholesPutIntegrand(x, S_spx, r, sigma_atm, T), 0, F)\n",
    "I_call = quad(lambda x: BlackScholesCallIntegrand(x, S_spx, r, sigma_atm, T), F, 1000000)"
   ]
  },
  {
   "cell_type": "code",
   "execution_count": 14,
   "metadata": {},
   "outputs": [
    {
     "name": "stdout",
     "output_type": "stream",
     "text": [
      "36.938003054940694\n"
     ]
    }
   ],
   "source": [
    "Vo = np.exp(-r*T) * h(F) + I_put[0] + I_call[0]\n",
    "print(Vo)"
   ]
  },
  {
   "cell_type": "markdown",
   "metadata": {},
   "source": [
    "### Model-free integrated variance:"
   ]
  },
  {
   "cell_type": "markdown",
   "metadata": {},
   "source": [
    "Model-free integrated variance can be calculated from the below formula:\n",
    "\n",
    "\\begin{equation*}\n",
    "\\begin{split}\n",
    "    \\mathbb{E}\\left[\\int_0^T\\sigma_t^2 \\;dt\\right] = 2e^{rT} \\left(\\int_0^{F}\\frac{P(K)}{K^2}\\;dK + \\int_{F}^{\\infty}\\frac{C(K)}{K^2}\\;dK\\right)\n",
    "    \\end{split}\n",
    "\\end{equation*}\n"
   ]
  },
  {
   "cell_type": "code",
   "execution_count": 15,
   "metadata": {},
   "outputs": [],
   "source": [
    "def BlackScholesCallIntegrand(K, S, r, sigma, T):\n",
    "    price = BlackScholesVanillaCall(S, K, r, sigma, T) / K**2\n",
    "    return price\n",
    "\n",
    "def BlackScholesPutIntegrand(K, S, r, sigma, T):\n",
    "    price = BlackScholesVanillaPut(S, K, r, sigma, T) / K**2\n",
    "    return price"
   ]
  },
  {
   "cell_type": "code",
   "execution_count": 16,
   "metadata": {},
   "outputs": [],
   "source": [
    "I_put = quad(lambda x: BlackScholesPutIntegrand(x, S_spx, r, sigma_atm, T), 0, F)\n",
    "I_call = quad(lambda x: BlackScholesCallIntegrand(x, S_spx, r, sigma_atm, T), F, 1000000)"
   ]
  },
  {
   "cell_type": "code",
   "execution_count": 17,
   "metadata": {},
   "outputs": [
    {
     "name": "stdout",
     "output_type": "stream",
     "text": [
      "0.003056263572461528\n"
     ]
    }
   ],
   "source": [
    "E_var = 2*np.exp(r*T)*(I_put[0] + I_call[0])\n",
    "print(E_var)"
   ]
  },
  {
   "cell_type": "code",
   "execution_count": 18,
   "metadata": {},
   "outputs": [
    {
     "data": {
      "text/plain": [
       "0.003056263572461537"
      ]
     },
     "execution_count": 18,
     "metadata": {},
     "output_type": "execute_result"
    }
   ],
   "source": [
    "sigma_atm*sigma_atm*T"
   ]
  },
  {
   "cell_type": "markdown",
   "metadata": {},
   "source": [
    "## Bachelier Model"
   ]
  },
  {
   "cell_type": "markdown",
   "metadata": {},
   "source": [
    "### Payoff function:"
   ]
  },
  {
   "cell_type": "code",
   "execution_count": 19,
   "metadata": {},
   "outputs": [],
   "source": [
    "def BachelierCall(S, K, r, sigma, T):\n",
    "    d1 = (S-K)/(sigma*np.sqrt(T))\n",
    "    return ((S-K)*norm.cdf(d1) + sigma*np.sqrt(T)*norm.pdf(d1)) * np.exp(-r*T)\n",
    "\n",
    "def BachelierPut(S, K, r, sigma, T):\n",
    "    d1 = (S-K)/(sigma*np.sqrt(T))\n",
    "    return ((K-S)*norm.cdf(-d1) + sigma*np.sqrt(T)*norm.pdf(-d1)) * np.exp(-r*T)\n",
    "\n",
    "def BachelierCallIntegrand(K, S, r, sigma, T):\n",
    "    price = BachelierCall(S, K, r, sigma, T) * hprimeprime(K)\n",
    "    return price\n",
    "\n",
    "def BachelierPutIntegrand(K, S, r, sigma, T):\n",
    "    price = BachelierPut(S, K, r, sigma, T) * hprimeprime(K)\n",
    "    return price"
   ]
  },
  {
   "cell_type": "code",
   "execution_count": 20,
   "metadata": {},
   "outputs": [],
   "source": [
    "I_put = quad(lambda x: BachelierPutIntegrand(x, S_spx, r, sigma_atm, T), 0, F)\n",
    "I_call = quad(lambda x: BachelierCallIntegrand(x, S_spx, r, sigma_atm, T), F, 1000000)"
   ]
  },
  {
   "cell_type": "code",
   "execution_count": 21,
   "metadata": {},
   "outputs": [
    {
     "name": "stdout",
     "output_type": "stream",
     "text": [
      "36.9438555624206\n"
     ]
    }
   ],
   "source": [
    "Vo = np.exp(-r*T) * h(F) + I_put[0] + I_call[0]\n",
    "print(Vo)"
   ]
  },
  {
   "cell_type": "markdown",
   "metadata": {},
   "source": [
    "### Model-free integrated variance:"
   ]
  },
  {
   "cell_type": "code",
   "execution_count": 22,
   "metadata": {},
   "outputs": [],
   "source": [
    "def BachelierCallIntegrand(K, S, r, sigma, T):\n",
    "    price = BachelierCall(S, K, r, sigma, T) / K**2\n",
    "    return price\n",
    "\n",
    "def BachelierPutIntegrand(K, S, r, sigma, T):\n",
    "    price = BachelierPut(S, K, r, sigma, T) / K**2\n",
    "    return price"
   ]
  },
  {
   "cell_type": "code",
   "execution_count": 23,
   "metadata": {},
   "outputs": [],
   "source": [
    "I_put = quad(lambda x: BachelierPutIntegrand(x, S_spx, r, sigma_atm, T), 0, F)\n",
    "I_call = quad(lambda x: BachelierCallIntegrand(x, S_spx, r, sigma_atm, T), F, 1000000)"
   ]
  },
  {
   "cell_type": "code",
   "execution_count": 24,
   "metadata": {},
   "outputs": [
    {
     "name": "stdout",
     "output_type": "stream",
     "text": [
      "0.000634088352319479\n"
     ]
    }
   ],
   "source": [
    "E_var = 2*np.exp(r*T)*(I_put[0] + I_call[0])\n",
    "print(E_var)"
   ]
  },
  {
   "cell_type": "markdown",
   "metadata": {},
   "source": [
    "## SABR Model"
   ]
  },
  {
   "cell_type": "code",
   "execution_count": 25,
   "metadata": {},
   "outputs": [],
   "source": [
    "#Remove ITM Call and Puts\n",
    "df[\"Keep\"] = np.where((df['Strike']>F) & (df['Payoff'] == \"Call\"),True, False)\n",
    "df[\"Keep\"] = np.where((df['Strike']<F) & (df['Payoff'] == \"Put\"),True, df[\"Keep\"])\n",
    "df = df[df[\"Keep\"]==True].reset_index(drop = True)"
   ]
  },
  {
   "cell_type": "code",
   "execution_count": 26,
   "metadata": {},
   "outputs": [],
   "source": [
    "def SABR(F, K, T, alpha, beta, rho, nu):\n",
    "    X = K\n",
    "    # if K is at-the-money-forward\n",
    "    if abs(F - K) < 1e-12:\n",
    "        numer1 = (((1 - beta)**2)/24)*alpha*alpha/(F**(2 - 2*beta))\n",
    "        numer2 = 0.25*rho*beta*nu*alpha/(F**(1 - beta))\n",
    "        numer3 = ((2 - 3*rho*rho)/24)*nu*nu\n",
    "        VolAtm = alpha*(1 + (numer1 + numer2 + numer3)*T)/(F**(1-beta))\n",
    "        sabrsigma = VolAtm\n",
    "    else:\n",
    "        z = (nu/alpha)*((F*X)**(0.5*(1-beta)))*np.log(F/X)\n",
    "        zhi = np.log((((1 - 2*rho*z + z*z)**0.5) + z - rho)/(1 - rho))\n",
    "        numer1 = (((1 - beta)**2)/24)*((alpha*alpha)/((F*X)**(1 - beta)))\n",
    "        numer2 = 0.25*rho*beta*nu*alpha/((F*X)**((1 - beta)/2))\n",
    "        numer3 = ((2 - 3*rho*rho)/24)*nu*nu\n",
    "        numer = alpha*(1 + (numer1 + numer2 + numer3)*T)*z\n",
    "        denom1 = ((1 - beta)**2/24)*(np.log(F/X))**2\n",
    "        denom2 = (((1 - beta)**4)/1920)*((np.log(F/X))**4)\n",
    "        denom = ((F*X)**((1 - beta)/2))*(1 + denom1 + denom2)*zhi\n",
    "        sabrsigma = numer/denom\n",
    "\n",
    "    return sabrsigma"
   ]
  },
  {
   "cell_type": "code",
   "execution_count": 27,
   "metadata": {},
   "outputs": [],
   "source": [
    "def SABRCall(S, K, r, alpha, beta, rho, nu, T):\n",
    "    sabr_vol = SABR(S*np.exp(r*T), K, T, alpha, beta, rho, nu)\n",
    "    return BlackScholesVanillaCall(S, K, r, sabr_vol, T)\n",
    "\n",
    "def SABRPut(S, K, r, alpha, beta, rho, nu, T):\n",
    "    sabr_vol = SABR(S*np.exp(r*T), K, T, alpha, beta, rho, nu)\n",
    "    return BlackScholesVanillaPut(S, K, r, sabr_vol, T)"
   ]
  },
  {
   "cell_type": "markdown",
   "metadata": {},
   "source": [
    "From Previous Part, for SPX options of 15th Jan expiry,\n",
    "Calibrated SABR model parameters: alpha = 1.999, beta = 0.7, rho = -0.633, nu = 2.664"
   ]
  },
  {
   "cell_type": "code",
   "execution_count": 28,
   "metadata": {},
   "outputs": [],
   "source": [
    "alpha = 1.999\n",
    "beta = 0.7\n",
    "rho = -0.633\n",
    "nu = 2.664"
   ]
  },
  {
   "cell_type": "markdown",
   "metadata": {},
   "source": [
    "### Payoff function:"
   ]
  },
  {
   "cell_type": "code",
   "execution_count": 29,
   "metadata": {},
   "outputs": [],
   "source": [
    "def sabrcallintegrand(K, S, r, T, alpha, beta, rho, nu):\n",
    "    price = SABRCall(S, K, r, alpha, beta, rho, nu, T) * hprimeprime(K)\n",
    "    return price\n",
    "\n",
    "def sabrputintegrand(K, S, r, T, alpha, beta, rho, nu):\n",
    "    price = SABRPut(S, K, r, alpha, beta, rho, nu, T) * hprimeprime(K)\n",
    "    return price"
   ]
  },
  {
   "cell_type": "code",
   "execution_count": 30,
   "metadata": {},
   "outputs": [],
   "source": [
    "I_put = quad(lambda x: sabrputintegrand(x, S_spx, r, T, alpha, beta, rho, nu), 0, F)\n",
    "I_call = quad(lambda x: sabrcallintegrand(x, S_spx, r, T, alpha, beta, rho, nu), F, 1000000)"
   ]
  },
  {
   "cell_type": "code",
   "execution_count": 31,
   "metadata": {},
   "outputs": [
    {
     "name": "stdout",
     "output_type": "stream",
     "text": [
      "36.929430043886704\n"
     ]
    }
   ],
   "source": [
    "Vo = np.exp(-r*T) * h(F) + I_put[0] + I_call[0]\n",
    "print(Vo)"
   ]
  },
  {
   "cell_type": "markdown",
   "metadata": {},
   "source": [
    "### Model-free integrated variance:"
   ]
  },
  {
   "cell_type": "code",
   "execution_count": 32,
   "metadata": {},
   "outputs": [],
   "source": [
    "def sabrcallintegrand(K, S, r, T, alpha, beta, rho, nu):\n",
    "    price = SABRCall(S, K, r, alpha, beta, rho, nu, T) / (K**2)\n",
    "    return price\n",
    "\n",
    "def sabrputintegrand(K, S, r, T, alpha, beta, rho, nu):\n",
    "    price = SABRPut(S, K, r, alpha, beta, rho, nu, T) / (K**2)\n",
    "    return price"
   ]
  },
  {
   "cell_type": "code",
   "execution_count": 33,
   "metadata": {},
   "outputs": [],
   "source": [
    "I_put = quad(lambda x: sabrputintegrand(x, S_spx, r, T, alpha, beta, rho, nu), 0, F)\n",
    "I_call = quad(lambda x: sabrcallintegrand(x, S_spx, r, T, alpha, beta, rho, nu), F, 1000000)"
   ]
  },
  {
   "cell_type": "code",
   "execution_count": 34,
   "metadata": {},
   "outputs": [
    {
     "name": "stdout",
     "output_type": "stream",
     "text": [
      "0.006928123898552289\n"
     ]
    }
   ],
   "source": [
    "E_var = 2*np.exp(r*T)*(I_put[0] + I_call[0])\n",
    "print(E_var)"
   ]
  },
  {
   "cell_type": "markdown",
   "metadata": {},
   "source": [
    "# For SPY"
   ]
  },
  {
   "cell_type": "markdown",
   "metadata": {},
   "source": [
    "## Black Scholes Model"
   ]
  },
  {
   "cell_type": "code",
   "execution_count": 35,
   "metadata": {},
   "outputs": [],
   "source": [
    "df = pd.read_csv('SPY_options.csv')\n",
    "rates_df = pd.read_csv('zero_rates_20201201.csv')"
   ]
  },
  {
   "cell_type": "code",
   "execution_count": 36,
   "metadata": {},
   "outputs": [],
   "source": [
    "#Filter for only expiries of 15th Jan 2021\n",
    "df = df[df[\"exdate\"] == df[\"exdate\"].unique()[1]].reset_index(drop = True)"
   ]
  },
  {
   "cell_type": "code",
   "execution_count": 37,
   "metadata": {},
   "outputs": [],
   "source": [
    "df[\"date\"] = pd.to_datetime(df['date'], format='%Y%m%d')\n",
    "df[\"exdate\"] = pd.to_datetime(df['exdate'], format='%Y%m%d')\n",
    "df['Strike'] = (df['strike_price'])/1000\n",
    "df['Payoff'] = np.where(df['cp_flag']==\"C\",\"Call\",\"Put\")\n",
    "df['Price'] = (df['best_bid'] + df['best_offer'])/2\n",
    "\n",
    "#Below values are constant\n",
    "T = (df[\"exdate\"][0] - df[\"date\"][0]).days/365\n",
    "r = np.interp((df[\"exdate\"][0] - df[\"date\"][0]).days, rates_df[\"days\"], rates_df[\"rate\"])\n",
    "F = S_spy*np.exp(r*T)"
   ]
  },
  {
   "cell_type": "code",
   "execution_count": 38,
   "metadata": {},
   "outputs": [],
   "source": [
    "#Define the Black Scholes implied vol calculator function \n",
    "def american_call(S, K, r, sigma, T, steps):\n",
    "    R = (1+r)**(T/steps)\n",
    "    u = np.exp(sigma*np.sqrt(T/steps))\n",
    "    d = 1.0/u\n",
    "    p_up = (R-d)/(u-d)\n",
    "    p_down = 1.0-p_up\n",
    "\n",
    "    prices = array.array('d', (0 for i in range(0, steps+1)))\n",
    "\n",
    "    prices[0] = S*pow(d, steps)\n",
    "    uu = u*u\n",
    "    for i in range(1, steps+1):\n",
    "        prices[i] = uu*prices[i-1]\n",
    "\n",
    "    call_values = array.array('d', (0 for i in range(0, steps+1)))\n",
    "    for i in range(0, steps+1):\n",
    "        call_values[i] = max(0.0, (prices[i]-K))\n",
    "\n",
    "    for step in range(steps-1, -1, -1):\n",
    "        for i in range(0, step+1):\n",
    "            call_values[i] = (p_up*call_values[i+1]+p_down*call_values[i])/R\n",
    "            prices[i] = d*prices[i+1]\n",
    "            call_values[i] = max(call_values[i], 1.0*(prices[i]-K))\n",
    "\n",
    "    return call_values[0]\n",
    "\n",
    "\n",
    "def american_put(S, K, r, sigma, T, steps):\n",
    "    R = (1+r)**(T/steps)\n",
    "    u = np.exp(sigma*np.sqrt(T/steps))\n",
    "    uu = u*u\n",
    "    d = 1.0/u\n",
    "    p_up = (R-d)/(u-d)\n",
    "    p_down = 1.0-p_up\n",
    "    prices = array.array('d', (0 for i in range(0, steps+1)))\n",
    "    prices[0] = S*pow(d, steps)\n",
    "\n",
    "    for i in range(1, steps+1):\n",
    "        prices[i] = uu*prices[i-1]\n",
    "\n",
    "    put_values = array.array('d', (0 for i in range(0, steps+1)))\n",
    "\n",
    "    for i in range(0, steps+1):\n",
    "        put_values[i] = max(0.0, (K-prices[i]))\n",
    "\n",
    "    for step in range(steps-1, -1, -1):\n",
    "        for i in range(0, step+1):\n",
    "            put_values[i] = (p_up*put_values[i+1]+p_down*put_values[i])/R\n",
    "            prices[i] = d*prices[i+1]\n",
    "            put_values[i] = max(put_values[i], (K-prices[i]))\n",
    "    return put_values[0]\n",
    "\n",
    "def impliedVolatility_americanoptions(S, K, r, price, T, payoff, steps):\n",
    "    try:\n",
    "        if (payoff.lower() == 'call'):\n",
    "            impliedVol = brentq(lambda x: price -\n",
    "                                american_call(S, K, r, x, T, steps),\n",
    "                                a = 1e-12,b = 10.0)\n",
    "        elif (payoff.lower() == 'put'):\n",
    "            impliedVol = brentq(lambda x: price -\n",
    "                                american_put(S, K, r, x, T, steps),\n",
    "                                1e-12, 10.0)\n",
    "        else:\n",
    "            raise NameError('Payoff type not recognized')\n",
    "    except Exception:\n",
    "        impliedVol = np.nan\n",
    "\n",
    "    return impliedVol"
   ]
  },
  {
   "cell_type": "code",
   "execution_count": 39,
   "metadata": {},
   "outputs": [],
   "source": [
    "df_atm = df[df['Strike'] == 366].reset_index(drop=True)"
   ]
  },
  {
   "cell_type": "code",
   "execution_count": 40,
   "metadata": {},
   "outputs": [],
   "source": [
    "#Calculate Market Implied Vols\n",
    "df_atm[\"BS_ImpliedVol\"] = False\n",
    "\n",
    "for i in range(0,len(df_atm)):\n",
    "    df_atm[\"BS_ImpliedVol\"][i] = impliedVolatility_americanoptions(S_spy, df_atm['Strike'][i], r, df_atm['Price'][i], T, df_atm['Payoff'][i], 2000)"
   ]
  },
  {
   "cell_type": "code",
   "execution_count": 41,
   "metadata": {},
   "outputs": [
    {
     "data": {
      "text/plain": [
       "0.12839541739221888"
      ]
     },
     "execution_count": 41,
     "metadata": {},
     "output_type": "execute_result"
    }
   ],
   "source": [
    "sigma_atm = (df_atm[\"BS_ImpliedVol\"][0] + df_atm[\"BS_ImpliedVol\"][1]) / 2\n",
    "sigma_atm"
   ]
  },
  {
   "cell_type": "markdown",
   "metadata": {},
   "source": [
    "### Payoff function:"
   ]
  },
  {
   "cell_type": "markdown",
   "metadata": {},
   "source": [
    "For any twice-differentiable payoff $h(S_T)$, Breeden-Litzenberger states that\n",
    "\n",
    "\\begin{equation*}\n",
    "    \\begin{split}\n",
    "      V_0 = e^{-rT}h(F) + \\underbrace{\\int_0^{F}h''(K)P(K)\\;dK}_{\\mbox{put integral}} + \\underbrace{\\int_{F}^{\\infty}h''(K)C(K)\\;dK}_{\\mbox{call integral}}\\\\\n",
    "    \\end{split}\n",
    "\\end{equation*}\n",
    "\n",
    "  "
   ]
  },
  {
   "cell_type": "code",
   "execution_count": 42,
   "metadata": {},
   "outputs": [],
   "source": [
    "def h(St):\n",
    "    return St**(1/3) + 1.5* math.log(St) + 10\n",
    "\n",
    "def hprimeprime(K):\n",
    "    return -2/(9*K**(5/3)) - 1.5/K**(2)"
   ]
  },
  {
   "cell_type": "code",
   "execution_count": 43,
   "metadata": {},
   "outputs": [],
   "source": [
    "def BlackScholesCallIntegrand(K, S, r, sigma, T):\n",
    "    price = BlackScholesVanillaCall(S, K, r, sigma, T) * hprimeprime(K)\n",
    "    return price\n",
    "\n",
    "def BlackScholesPutIntegrand(K, S, r, sigma, T):\n",
    "    price = BlackScholesVanillaPut(S, K, r, sigma, T) * hprimeprime(K)\n",
    "    return price"
   ]
  },
  {
   "cell_type": "code",
   "execution_count": 44,
   "metadata": {},
   "outputs": [],
   "source": [
    "I_put = quad(lambda x: BlackScholesPutIntegrand(x, S_spy, r, sigma_atm, T), 0, F)\n",
    "I_call = quad(lambda x: BlackScholesCallIntegrand(x, S_spy, r, sigma_atm, T), F, 5000)"
   ]
  },
  {
   "cell_type": "code",
   "execution_count": 45,
   "metadata": {},
   "outputs": [
    {
     "name": "stdout",
     "output_type": "stream",
     "text": [
      "25.45079351880009\n"
     ]
    }
   ],
   "source": [
    "Vo = np.exp(-r*T) * h(F) + I_put[0] + I_call[0]\n",
    "print(Vo)"
   ]
  },
  {
   "cell_type": "markdown",
   "metadata": {},
   "source": [
    "### Model-free integrated variance:"
   ]
  },
  {
   "cell_type": "markdown",
   "metadata": {},
   "source": [
    "Model-free integrated variance can be calculated from the below formula:\n",
    "\n",
    "\\begin{equation*}\n",
    "\\begin{split}\n",
    "    \\mathbb{E}\\left[\\int_0^T\\sigma_t^2 \\;dt\\right] = 2e^{rT} \\left(\\int_0^{F}\\frac{P(K)}{K^2}\\;dK + \\int_{F}^{\\infty}\\frac{C(K)}{K^2}\\;dK\\right)\n",
    "    \\end{split}\n",
    "\\end{equation*}\n"
   ]
  },
  {
   "cell_type": "code",
   "execution_count": 46,
   "metadata": {},
   "outputs": [],
   "source": [
    "def BlackScholesCallIntegrand(K, S, r, sigma, T):\n",
    "    price = BlackScholesVanillaCall(S, K, r, sigma, T) / K**2\n",
    "    return price\n",
    "\n",
    "def BlackScholesPutIntegrand(K, S, r, sigma, T):\n",
    "    price = BlackScholesVanillaPut(S, K, r, sigma, T) / K**2\n",
    "    return price"
   ]
  },
  {
   "cell_type": "code",
   "execution_count": 47,
   "metadata": {},
   "outputs": [],
   "source": [
    "I_put = quad(lambda x: BlackScholesPutIntegrand(x, S_spy, r, sigma_atm, T), 0, F)\n",
    "I_call = quad(lambda x: BlackScholesCallIntegrand(x, S_spy, r, sigma_atm, T), F, 5000)"
   ]
  },
  {
   "cell_type": "code",
   "execution_count": 48,
   "metadata": {
    "scrolled": true
   },
   "outputs": [
    {
     "name": "stdout",
     "output_type": "stream",
     "text": [
      "0.0020324445050123297\n"
     ]
    }
   ],
   "source": [
    "E_var = 2*np.exp(r*T)*(I_put[0] + I_call[0])\n",
    "print(E_var)"
   ]
  },
  {
   "cell_type": "code",
   "execution_count": 49,
   "metadata": {},
   "outputs": [
    {
     "data": {
      "text/plain": [
       "0.002032444505012314"
      ]
     },
     "execution_count": 49,
     "metadata": {},
     "output_type": "execute_result"
    }
   ],
   "source": [
    "sigma_atm*sigma_atm*T"
   ]
  },
  {
   "cell_type": "markdown",
   "metadata": {},
   "source": [
    "## Bachelier Model\n"
   ]
  },
  {
   "cell_type": "markdown",
   "metadata": {},
   "source": [
    "### Payoff function:"
   ]
  },
  {
   "cell_type": "code",
   "execution_count": 50,
   "metadata": {},
   "outputs": [],
   "source": [
    "def BachelierCall(S, K, r, sigma, T):\n",
    "    d1 = (S-K)/(sigma*np.sqrt(T))\n",
    "    return ((S-K)*norm.cdf(d1) + sigma*np.sqrt(T)*norm.pdf(d1)) * np.exp(-r*T)\n",
    "\n",
    "def BachelierPut(S, K, r, sigma, T):\n",
    "    d1 = (S-K)/(sigma*np.sqrt(T))\n",
    "    return ((K-S)*norm.cdf(-d1) + sigma*np.sqrt(T)*norm.pdf(-d1)) * np.exp(-r*T)\n",
    "\n",
    "def BachelierCallIntegrand(K, S, r, sigma, T):\n",
    "    price = BachelierCall(S, K, r, sigma, T) * hprimeprime(K)\n",
    "    return price\n",
    "\n",
    "def BachelierPutIntegrand(K, S, r, sigma, T):\n",
    "    price = BachelierPut(S, K, r, sigma, T) * hprimeprime(K)\n",
    "    return price"
   ]
  },
  {
   "cell_type": "code",
   "execution_count": 51,
   "metadata": {},
   "outputs": [],
   "source": [
    "I_put = quad(lambda x: BachelierPutIntegrand(x, S_spy, r, sigma_atm, T), 0, F)\n",
    "I_call = quad(lambda x: BachelierCallIntegrand(x, S_spy, r, sigma_atm, T), F, 5000)"
   ]
  },
  {
   "cell_type": "code",
   "execution_count": 52,
   "metadata": {},
   "outputs": [
    {
     "name": "stdout",
     "output_type": "stream",
     "text": [
      "25.45291012574156\n"
     ]
    }
   ],
   "source": [
    "Vo = np.exp(-r*T) * h(F) + I_put[0] + I_call[0]\n",
    "print(Vo)"
   ]
  },
  {
   "cell_type": "markdown",
   "metadata": {},
   "source": [
    "### Model-free integrated variance:"
   ]
  },
  {
   "cell_type": "code",
   "execution_count": 53,
   "metadata": {},
   "outputs": [],
   "source": [
    "def BachelierCallIntegrand(K, S, r, sigma, T):\n",
    "    price = BachelierCall(S, K, r, sigma, T) / K**2\n",
    "    return price\n",
    "\n",
    "def BachelierPutIntegrand(K, S, r, sigma, T):\n",
    "    price = BachelierPut(S, K, r, sigma, T) / K**2\n",
    "    return price"
   ]
  },
  {
   "cell_type": "code",
   "execution_count": 54,
   "metadata": {},
   "outputs": [],
   "source": [
    "I_put = quad(lambda x: BachelierPutIntegrand(x, S_spy, r, sigma_atm, T), 0, F)\n",
    "I_call = quad(lambda x: BachelierCallIntegrand(x, S_spy, r, sigma_atm, T), F, 5000)"
   ]
  },
  {
   "cell_type": "code",
   "execution_count": 55,
   "metadata": {},
   "outputs": [
    {
     "name": "stdout",
     "output_type": "stream",
     "text": [
      "0.0006341032954980808\n"
     ]
    }
   ],
   "source": [
    "E_var = 2*np.exp(r*T)*(I_put[0] + I_call[0])\n",
    "print(E_var)"
   ]
  },
  {
   "cell_type": "code",
   "execution_count": 56,
   "metadata": {},
   "outputs": [
    {
     "data": {
      "text/plain": [
       "0.002032444505012314"
      ]
     },
     "execution_count": 56,
     "metadata": {},
     "output_type": "execute_result"
    }
   ],
   "source": [
    "sigma_atm*sigma_atm*T"
   ]
  },
  {
   "cell_type": "markdown",
   "metadata": {},
   "source": [
    "## SABR Model"
   ]
  },
  {
   "cell_type": "code",
   "execution_count": 57,
   "metadata": {},
   "outputs": [],
   "source": [
    "#Remove ITM Call and Puts\n",
    "df[\"Keep\"] = np.where((df['Strike']>F) & (df['Payoff'] == \"Call\"),True, False)\n",
    "df[\"Keep\"] = np.where((df['Strike']<F) & (df['Payoff'] == \"Put\"),True, df[\"Keep\"])\n",
    "df = df[df[\"Keep\"]==True].reset_index(drop = True)"
   ]
  },
  {
   "cell_type": "code",
   "execution_count": 58,
   "metadata": {},
   "outputs": [],
   "source": [
    "def SABR(F, K, T, alpha, beta, rho, nu):\n",
    "    X = K\n",
    "    # if K is at-the-money-forward\n",
    "    if abs(F - K) < 1e-12:\n",
    "        numer1 = (((1 - beta)**2)/24)*alpha*alpha/(F**(2 - 2*beta))\n",
    "        numer2 = 0.25*rho*beta*nu*alpha/(F**(1 - beta))\n",
    "        numer3 = ((2 - 3*rho*rho)/24)*nu*nu\n",
    "        VolAtm = alpha*(1 + (numer1 + numer2 + numer3)*T)/(F**(1-beta))\n",
    "        sabrsigma = VolAtm\n",
    "    else:\n",
    "        z = (nu/alpha)*((F*X)**(0.5*(1-beta)))*np.log(F/X)\n",
    "        zhi = np.log((((1 - 2*rho*z + z*z)**0.5) + z - rho)/(1 - rho))\n",
    "        numer1 = (((1 - beta)**2)/24)*((alpha*alpha)/((F*X)**(1 - beta)))\n",
    "        numer2 = 0.25*rho*beta*nu*alpha/((F*X)**((1 - beta)/2))\n",
    "        numer3 = ((2 - 3*rho*rho)/24)*nu*nu\n",
    "        numer = alpha*(1 + (numer1 + numer2 + numer3)*T)*z\n",
    "        denom1 = ((1 - beta)**2/24)*(np.log(F/X))**2\n",
    "        denom2 = (((1 - beta)**4)/1920)*((np.log(F/X))**4)\n",
    "        denom = ((F*X)**((1 - beta)/2))*(1 + denom1 + denom2)*zhi\n",
    "        sabrsigma = numer/denom\n",
    "\n",
    "    return sabrsigma"
   ]
  },
  {
   "cell_type": "code",
   "execution_count": 59,
   "metadata": {},
   "outputs": [],
   "source": [
    "def SABRCall(S, K, r, alpha, beta, rho, nu, T):\n",
    "    sabr_vol = SABR(S*np.exp(r*T), K, T, alpha, beta, rho, nu)\n",
    "    return BlackScholesVanillaCall(S, K, r, sabr_vol, T)\n",
    "\n",
    "def SABRPut(S, K, r, alpha, beta, rho, nu, T):\n",
    "    sabr_vol = SABR(S*np.exp(r*T), K, T, alpha, beta, rho, nu)\n",
    "    return BlackScholesVanillaPut(S, K, r, sabr_vol, T)"
   ]
  },
  {
   "cell_type": "markdown",
   "metadata": {},
   "source": [
    "From Previous Part, for SPY options of 15th Jan expiry,\n",
    "Calibrated SABR model parameters: alpha = 0.937, beta = 0.7, rho = -0.577, nu = 2.731"
   ]
  },
  {
   "cell_type": "code",
   "execution_count": 60,
   "metadata": {},
   "outputs": [],
   "source": [
    "alpha = 0.937\n",
    "beta = 0.7\n",
    "rho = -0.577\n",
    "nu = 2.731"
   ]
  },
  {
   "cell_type": "markdown",
   "metadata": {},
   "source": [
    "### Payoff function:"
   ]
  },
  {
   "cell_type": "code",
   "execution_count": 61,
   "metadata": {},
   "outputs": [],
   "source": [
    "def sabrcallintegrand(K, S, r, T, alpha, beta, rho, nu):\n",
    "    price = SABRCall(S, K, r, alpha, beta, rho, nu, T) * hprimeprime(K)\n",
    "    return price\n",
    "\n",
    "def sabrputintegrand(K, S, r, T, alpha, beta, rho, nu):\n",
    "    price = SABRPut(S, K, r, alpha, beta, rho, nu, T) * hprimeprime(K)\n",
    "    return price"
   ]
  },
  {
   "cell_type": "code",
   "execution_count": 62,
   "metadata": {},
   "outputs": [],
   "source": [
    "I_put = quad(lambda x: sabrputintegrand(x, S_spy, r, T, alpha, beta, rho, nu), 0, F)\n",
    "I_call = quad(lambda x: sabrcallintegrand(x, S_spy, r, T, alpha, beta, rho, nu), F, 5000)"
   ]
  },
  {
   "cell_type": "code",
   "execution_count": 63,
   "metadata": {},
   "outputs": [
    {
     "name": "stdout",
     "output_type": "stream",
     "text": [
      "25.444606795353593\n"
     ]
    }
   ],
   "source": [
    "Vo = np.exp(-r*T) * h(F) + I_put[0] + I_call[0]\n",
    "print(Vo)"
   ]
  },
  {
   "cell_type": "markdown",
   "metadata": {},
   "source": [
    "### Model-free integrated variance:"
   ]
  },
  {
   "cell_type": "code",
   "execution_count": 64,
   "metadata": {},
   "outputs": [],
   "source": [
    "def sabrcallintegrand(K, S, r, T, alpha, beta, rho, nu):\n",
    "    price = SABRCall(S, K, r, alpha, beta, rho, nu, T) / (K**2)\n",
    "    return price\n",
    "\n",
    "def sabrputintegrand(K, S, r, T, alpha, beta, rho, nu):\n",
    "    price = SABRPut(S, K, r, alpha, beta, rho, nu, T) / (K**2)\n",
    "    return price"
   ]
  },
  {
   "cell_type": "code",
   "execution_count": 65,
   "metadata": {},
   "outputs": [],
   "source": [
    "I_put = quad(lambda x: sabrputintegrand(x, S_spy, r, T, alpha, beta, rho, nu), 0, F)\n",
    "I_call = quad(lambda x: sabrcallintegrand(x, S_spy, r, T, alpha, beta, rho, nu), F, 5000)"
   ]
  },
  {
   "cell_type": "code",
   "execution_count": 66,
   "metadata": {},
   "outputs": [
    {
     "name": "stdout",
     "output_type": "stream",
     "text": [
      "0.006348801100944951\n"
     ]
    }
   ],
   "source": [
    "E_var = 2*np.exp(r*T)*(I_put[0] + I_call[0])\n",
    "print(E_var)"
   ]
  }
 ],
 "metadata": {
  "kernelspec": {
   "display_name": "Python 3 (ipykernel)",
   "language": "python",
   "name": "python3"
  },
  "language_info": {
   "codemirror_mode": {
    "name": "ipython",
    "version": 3
   },
   "file_extension": ".py",
   "mimetype": "text/x-python",
   "name": "python",
   "nbconvert_exporter": "python",
   "pygments_lexer": "ipython3",
   "version": "3.9.6"
  }
 },
 "nbformat": 4,
 "nbformat_minor": 2
}
