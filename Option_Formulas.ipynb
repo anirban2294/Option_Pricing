{
 "cells": [
  {
   "cell_type": "markdown",
   "id": "5e9e5d72",
   "metadata": {},
   "source": [
    "\n",
    "## Black Scholes Model"
   ]
  },
  {
   "cell_type": "code",
   "execution_count": 1,
   "id": "827ace4c",
   "metadata": {},
   "outputs": [],
   "source": [
    "import numpy as np\n",
    "import pandas as pd\n",
    "import datetime as dt\n",
    "from scipy.stats import norm"
   ]
  },
  {
   "cell_type": "markdown",
   "id": "ca3a46a8",
   "metadata": {},
   "source": [
    "**a. Vanilla Call/Put**"
   ]
  },
  {
   "cell_type": "markdown",
   "id": "90cebe7e",
   "metadata": {},
   "source": [
    "The Black-Scholes formula for a vanilla call option is given by\n",
    "\n",
    "\\begin{equation}\n",
    "\\begin{split}\n",
    "C(S,K,r,\\sigma,T) &= S_0 \\Phi(d_1) - K e^{-rT} \\Phi(d_2)\\\\\n",
    "            d_1 &= \\frac{\\log \\frac{S_0}{K} +\n",
    "            \\left(r+\\frac{\\sigma^2}{2}\\right)T}{\\sigma\\sqrt{T}}, \\hspace{2cm} d_2 = d_1 - \\sigma\\sqrt{T}\\\\\n",
    "\\end{split}            \n",
    "\\end{equation}\n"
   ]
  },
  {
   "cell_type": "code",
   "execution_count": 2,
   "id": "06ebfe22",
   "metadata": {},
   "outputs": [],
   "source": [
    "def BlackScholesVanillaCall(S, K, r, sigma, T):\n",
    "    d1 = (np.log(S/K)+(r+sigma**2/2)*T) / (sigma*np.sqrt(T))\n",
    "    d2 = d1 - sigma*np.sqrt(T)\n",
    "    return S*norm.cdf(d1) - K*np.exp(-r*T)*norm.cdf(d2)"
   ]
  },
  {
   "cell_type": "markdown",
   "id": "4664b145",
   "metadata": {},
   "source": [
    "Similarly, the Black-Scholes formula for a vanilla put option is given by\n",
    "\n",
    "\\begin{equation}\n",
    "\\begin{split}\n",
    "P(S,K,r,\\sigma,T) &= -S_0 \\Phi(-d_1) + K e^{-rT} \\Phi(-d_2)\\\\\n",
    "            d_1 &= \\frac{\\log \\frac{S_0}{K} +\n",
    "            \\left(r+\\frac{\\sigma^2}{2}\\right)T}{\\sigma\\sqrt{T}}, \\hspace{2cm} d_2 = d_1 - \\sigma\\sqrt{T}\\\\\n",
    "\\end{split}            \n",
    "\\end{equation}\n"
   ]
  },
  {
   "cell_type": "code",
   "execution_count": 3,
   "id": "23a7f48b",
   "metadata": {},
   "outputs": [],
   "source": [
    "def BlackScholesVanillaPut(S, K, r, sigma, T):\n",
    "    d1 = (np.log(S/K)+(r+sigma**2/2)*T) / (sigma*np.sqrt(T))\n",
    "    d2 = d1 - sigma*np.sqrt(T)\n",
    "    return K*np.exp(-r*T)*norm.cdf(-d2) - S*norm.cdf(-d1)"
   ]
  },
  {
   "cell_type": "markdown",
   "id": "42fe9be3",
   "metadata": {},
   "source": [
    "**b. Digital Cash-or-nothing Call/Put**"
   ]
  },
  {
   "cell_type": "markdown",
   "id": "e46c4bfc",
   "metadata": {},
   "source": [
    "A digital cash-or-nothing call is an option that has a binary outcome: it pays out either a fixed amount (X), if the underlying stock ends up above the strike price, or pays out nothing.\n",
    "\n",
    "The Black-Scholes formula for a European Digital Cash-or-nothing call option is given by\n",
    "\n",
    "\\begin{equation}\n",
    "\\begin{split}\n",
    "C_c(S,K,r,\\sigma,T,X) &= Xe^{-rT} \\Phi(d_2)\\\\\n",
    "            d_1 &= \\frac{\\log \\frac{S_0}{K} +\n",
    "            \\left(r+\\frac{\\sigma^2}{2}\\right)T}{\\sigma\\sqrt{T}}, \\hspace{2cm} d_2 = d_1 - \\sigma\\sqrt{T}\\\\\n",
    "\\end{split}            \n",
    "\\end{equation}\n"
   ]
  },
  {
   "cell_type": "code",
   "execution_count": 4,
   "id": "2c1836d5",
   "metadata": {},
   "outputs": [],
   "source": [
    "def BlackScholesDigitalCONCall(S, K, r, sigma, T, X):\n",
    "    d1 = (np.log(S/K)+(r+sigma**2/2)*T) / (sigma*np.sqrt(T))\n",
    "    d2 = d1 - sigma*np.sqrt(T)\n",
    "    return X*np.exp(-r*T)*norm.cdf(d2)"
   ]
  },
  {
   "cell_type": "markdown",
   "id": "54a2a1c1",
   "metadata": {},
   "source": [
    "Similarly, a digital cash-or-nothing put is an option that has a binary outcome: it pays out either a fixed amount (X), if the underlying stock ends up below the strike price, or pays out nothing.\n",
    "\n",
    "The Black-Scholes formula for a Digital European Cash-or-nothing put option is given by\n",
    "\n",
    "\\begin{equation}\n",
    "\\begin{split}\n",
    "P_c(S,K,r,\\sigma,T,X) &= Xe^{-rT} \\Phi(-d_2)\\\\\n",
    "            d_1 &= \\frac{\\log \\frac{S_0}{K} +\n",
    "            \\left(r+\\frac{\\sigma^2}{2}\\right)T}{\\sigma\\sqrt{T}}, \\hspace{2cm} d_2 = d_1 - \\sigma\\sqrt{T}\\\\\n",
    "\\end{split}            \n",
    "\\end{equation}"
   ]
  },
  {
   "cell_type": "code",
   "execution_count": 5,
   "id": "17410469",
   "metadata": {},
   "outputs": [],
   "source": [
    "def BlackScholesDigitalCONPut(S, K, r, sigma, T, X):\n",
    "    d1 = (np.log(S/K)+(r+sigma**2/2)*T) / (sigma*np.sqrt(T))\n",
    "    d2 = d1 - sigma*np.sqrt(T)\n",
    "    return X*np.exp(-r*T)*norm.cdf(-d2)"
   ]
  },
  {
   "cell_type": "markdown",
   "id": "64c33a0d",
   "metadata": {},
   "source": [
    "**c. Digital Asset-or-nothing Call/Put**"
   ]
  },
  {
   "cell_type": "markdown",
   "id": "bddef8a2",
   "metadata": {},
   "source": [
    "An asset-or-nothing call is a type of digital option whose payout is fixed(S) if the underlying asset as in-the-money on expiration date.\n",
    "\n",
    "The Black-Scholes formula for a Digital European Asset-or-nothing call option is given by\n",
    "\n",
    "\\begin{equation}\n",
    "\\begin{split}\n",
    "C_a(S,K,r,\\sigma,T) &= S_0 \\Phi(d_1)\\\\\n",
    "            d_1 &= \\frac{\\log \\frac{S_0}{K} +\n",
    "            \\left(r+\\frac{\\sigma^2}{2}\\right)T}{\\sigma\\sqrt{T}}, \\hspace{2cm} d_2 = d_1 - \\sigma\\sqrt{T}\\\\\n",
    "\\end{split}            \n",
    "\\end{equation}\n"
   ]
  },
  {
   "cell_type": "code",
   "execution_count": 6,
   "id": "54825f4f",
   "metadata": {},
   "outputs": [],
   "source": [
    "def BlackScholesDigitalAONCall(S, K, r, sigma, T):\n",
    "    d1 = (np.log(S/K)+(r+sigma**2/2)*T) / (sigma*np.sqrt(T))\n",
    "    d2 = d1 - sigma*np.sqrt(T)\n",
    "    return S*norm.cdf(d1)"
   ]
  },
  {
   "cell_type": "markdown",
   "id": "6cae9ac3",
   "metadata": {},
   "source": [
    "An asset-or-nothing put is a type of digital option whose payout is fixed(S) if the underlying asset as in-the-money on expiration date.\n",
    "\n",
    "The Black-Scholes formula for a Digital European Asset-or-nothing put option is given by\n",
    "\n",
    "\\begin{equation}\n",
    "\\begin{split}\n",
    "P_a(S,K,r,\\sigma,T) &= S_0 \\Phi(-d_1)\\\\\n",
    "            d_1 &= \\frac{\\log \\frac{S_0}{K} +\n",
    "            \\left(r+\\frac{\\sigma^2}{2}\\right)T}{\\sigma\\sqrt{T}}, \\hspace{2cm} d_2 = d_1 - \\sigma\\sqrt{T}\\\\\n",
    "\\end{split}            \n",
    "\\end{equation}"
   ]
  },
  {
   "cell_type": "code",
   "execution_count": 7,
   "id": "46a3b827",
   "metadata": {},
   "outputs": [],
   "source": [
    "def BlackScholesDigitalAONPut(S, K, r, sigma, T):\n",
    "    d1 = (np.log(S/K)+(r+sigma**2/2)*T) / (sigma*np.sqrt(T))\n",
    "    d2 = d1 - sigma*np.sqrt(T)\n",
    "    return S*norm.cdf(-d1)"
   ]
  },
  {
   "cell_type": "markdown",
   "id": "3b8a5fb4",
   "metadata": {},
   "source": [
    "## Bachelier model"
   ]
  },
  {
   "cell_type": "markdown",
   "id": "76873722",
   "metadata": {},
   "source": [
    "**a. Vanilla Call/Put**"
   ]
  },
  {
   "cell_type": "markdown",
   "id": "797f2b4f",
   "metadata": {},
   "source": [
    "\n",
    "The Bachelier formula for a vanilla call option is given by\n",
    "\n",
    "\n",
    "\\begin{equation}\n",
    "\\begin{split}\n",
    "C(S,K,r,\\sigma,T) &= e^{-rT}[(S_0 - K) \\Phi(d_1) + \\sigma\\sqrt{T}\\phi(d1)]\\\\\n",
    "d_1 = \\frac{S_0 - K}{\\sigma\\sqrt{T}} \n",
    "\\end{split}            \n",
    "\\end{equation}"
   ]
  },
  {
   "cell_type": "code",
   "execution_count": 8,
   "id": "ba1c4884",
   "metadata": {},
   "outputs": [],
   "source": [
    "def BachelierCall(S, K, r, sigma, T):\n",
    "    d1 = (S-K) / (sigma*np.sqrt(T))\n",
    "    return  np.exp(-r * T) *((S-K)*norm.cdf(d1) + sigma*np.sqrt(T)*norm.pdf(d1))"
   ]
  },
  {
   "cell_type": "markdown",
   "id": "9264400f",
   "metadata": {},
   "source": [
    "The Bachelier formula for a vanilla put option is given by\n",
    "\n",
    "\\begin{equation}\n",
    "\\begin{split}\n",
    "P(S,K,r,\\sigma,T) &= e^{-rT}[(K - S_0) \\Phi(-d_1) + \\sigma\\sqrt{T}\\phi(-d_1)]\\\\\n",
    "d_1 = \\frac{S_0 - K}{\\sigma\\sqrt{T}} \n",
    "\\end{split}            \n",
    "\\end{equation}"
   ]
  },
  {
   "cell_type": "code",
   "execution_count": 9,
   "id": "d99e9414",
   "metadata": {},
   "outputs": [],
   "source": [
    "def BachelierPut(S, K, r, sigma, T):\n",
    "    d1 = (S-K) / (sigma*np.sqrt(T))\n",
    "    return np.exp(-r * T) * ( (K-S)*norm.cdf(-d1) + sigma*np.sqrt(T)*norm.pdf(-d1) )"
   ]
  },
  {
   "cell_type": "markdown",
   "id": "b25e117e",
   "metadata": {},
   "source": [
    "**b. Digital Cash-or-nothing Call/Put**"
   ]
  },
  {
   "cell_type": "markdown",
   "id": "cb44c1be",
   "metadata": {},
   "source": [
    "The Bachelier formula for a European Digital Cash-or-nothing call option is given by\n",
    "\n",
    "\\begin{equation}\n",
    "\\begin{split}\n",
    "C(S,K,r,\\sigma,T) &= e^{-rT}[\\Phi(d_1)]\\\\\n",
    "d_1 = \\frac{S_0 - K}{\\sigma\\sqrt{T}} \n",
    "\\end{split}            \n",
    "\\end{equation}"
   ]
  },
  {
   "cell_type": "code",
   "execution_count": 10,
   "id": "febce605",
   "metadata": {},
   "outputs": [],
   "source": [
    "def BachelierDCashCall(S, K, r, sigma, T):\n",
    "    d1 = (S-K) / (sigma*np.sqrt(T))\n",
    "    return np.exp(-r * T) * norm.cdf(d1)"
   ]
  },
  {
   "cell_type": "markdown",
   "id": "071db886",
   "metadata": {},
   "source": [
    "The Bachelier formula for a European Digital Cash-or-nothing put option is given by\n",
    "\n",
    "\\begin{equation}\n",
    "\\begin{split}\n",
    "P(S,K,r,\\sigma,T) &= e^{-rT}[\\Phi(-d_1)]\\\\\n",
    "d_1 = \\frac{S_0 - K}{\\sigma\\sqrt{T}} \n",
    "\\end{split}            \n",
    "\\end{equation}"
   ]
  },
  {
   "cell_type": "code",
   "execution_count": 11,
   "id": "28e68ddf",
   "metadata": {},
   "outputs": [],
   "source": [
    "def BachelierDCashPut(S, K, r, sigma, T):\n",
    "    d1 = (S-K) / (sigma*np.sqrt(T))\n",
    "    return np.exp(-r*T) * norm.cdf(-d1)"
   ]
  },
  {
   "cell_type": "markdown",
   "id": "25c61542",
   "metadata": {},
   "source": [
    "**c. Digital Asset-or-nothing Call/Put**"
   ]
  },
  {
   "cell_type": "markdown",
   "id": "4df08e94",
   "metadata": {},
   "source": [
    "The Bachelier formula for a Digital European Asset-or-nothing call option is given by\n",
    "\n",
    "\n",
    "\\begin{equation}\n",
    "\\begin{split}\n",
    "C(S,K,r,\\sigma,T) &= e^{-rT}[(S_0) \\Phi(d_1) + \\sigma\\sqrt{T}\\phi(d1)]\\\\\n",
    "d_1 = \\frac{S_0 - K}{\\sigma\\sqrt{T}} \n",
    "\\end{split}            \n",
    "\\end{equation}"
   ]
  },
  {
   "cell_type": "code",
   "execution_count": 12,
   "id": "d561507e",
   "metadata": {},
   "outputs": [],
   "source": [
    "def BachelierDAssetCall(S, K, r, sigma, T):\n",
    "    d1 = (S-K) / (sigma*np.sqrt(T))\n",
    "    return np.exp(-r *T) * ( S*norm.cdf(d1) + sigma*np.sqrt(T)*norm.pdf(d1) )\n"
   ]
  },
  {
   "cell_type": "markdown",
   "id": "2317c5a7",
   "metadata": {},
   "source": [
    "The Bachelier formula for a Digital European Asset-or-nothing put option is given by\n",
    "\n",
    "\\begin{equation}\n",
    "\\begin{split}\n",
    "P(S,K,r,\\sigma,T) &= e^{-rT}[(S_0) \\Phi(-d_1) + \\sigma\\sqrt{T}\\phi(d1)]\\\\\n",
    "d_1 = \\frac{S_0 - K}{\\sigma\\sqrt{T}} \n",
    "\\end{split}            \n",
    "\\end{equation}"
   ]
  },
  {
   "cell_type": "code",
   "execution_count": 13,
   "id": "5713003f",
   "metadata": {},
   "outputs": [],
   "source": [
    "def BachelierDAssetPut(S, K, r, sigma, T):\n",
    "    d1 = (S-K) / (sigma*np.sqrt(T))\n",
    "    return  np.exp(-r*T) * ( S*norm.cdf(-d1) - sigma*np.sqrt(T)*norm.pdf(-d1) )"
   ]
  },
  {
   "cell_type": "markdown",
   "id": "3df24c05",
   "metadata": {},
   "source": [
    "## Black76 model"
   ]
  },
  {
   "cell_type": "markdown",
   "id": "d4c5a0c4",
   "metadata": {},
   "source": [
    "**a. Vanilla Call/Put**\n",
    "\n"
   ]
  },
  {
   "cell_type": "markdown",
   "id": "09888adc",
   "metadata": {},
   "source": [
    "The Black76 formula for a vanilla call option is given by\n",
    "\n",
    "\\begin{equation}\n",
    "\\begin{split}\n",
    "C(F,K,r,\\sigma,T) &= F_0 e^{-rT} \\Phi(d_1) - K e^{-rT} \\Phi(d_2)\\\\\n",
    "            d_1 &= \\frac{\\log \\frac{F_0}{K} +\n",
    "            \\left(\\frac{\\sigma^2}{2}\\right)T}{\\sigma\\sqrt{T}}, \\hspace{2cm} d_2 = d_1 - \\sigma\\sqrt{T}\\\\\n",
    "\\end{split}            \n",
    "\\end{equation}\n",
    "\n",
    "The formula can be implemented in Python as follows:"
   ]
  },
  {
   "cell_type": "code",
   "execution_count": 14,
   "id": "f3422f25",
   "metadata": {},
   "outputs": [],
   "source": [
    "# F0 = Future value of security at time 0\n",
    "# K = Strike price\n",
    "# Sigma = sigma\n",
    "# T = Time \n",
    "\n",
    "\n",
    "def Black76_Vanilla_Call(F0, K, r, sigma, T):\n",
    "    d1 = (np.log(F0/K) + (1/2*sigma**2*T)) / (sigma*np.sqrt(T))\n",
    "    d2 = d1 - (sigma*np.sqrt(T))\n",
    "    discount_factor = np.exp(-r*T)\n",
    "    return discount_factor*(F0*norm.cdf(d1) - K*norm.cdf(d2))\n"
   ]
  },
  {
   "cell_type": "markdown",
   "id": "051dda2f",
   "metadata": {},
   "source": [
    "The Black76 formula for a vanilla put option is given by\n",
    "\n",
    "\\begin{equation}\n",
    "\\begin{split}\n",
    "P(F,K,r,\\sigma,T) &=  K e^{-rT} \\Phi(-d_2) - F_0 e^{-rT} \\Phi(-d_1)\\\\\n",
    "            d_1 &= \\frac{\\log \\frac{F_0}{K} +\n",
    "            \\left(\\frac{\\sigma^2}{2}\\right)T}{\\sigma\\sqrt{T}}, \\hspace{2cm} d_2 = d_1 - \\sigma\\sqrt{T}\\\\\n",
    "\\end{split}            \n",
    "\\end{equation}\n",
    "\n",
    "The formula can be implemented in Python as follows:"
   ]
  },
  {
   "cell_type": "code",
   "execution_count": 15,
   "id": "82a9208a",
   "metadata": {},
   "outputs": [],
   "source": [
    "def Black76_Vanilla_Put(F0, K, r, sigma, T):\n",
    "    d1 = (np.log(F0/K) + (1/2*sigma**2*T)) / (sigma*np.sqrt(T))\n",
    "    d2 = d1 - (sigma*np.sqrt(T))\n",
    "    discount_factor = np.exp(-r*T)\n",
    "    return discount_factor*(K*norm.cdf(-d2) - F0*norm.cdf(-d1))\n"
   ]
  },
  {
   "cell_type": "markdown",
   "id": "8037a774",
   "metadata": {},
   "source": [
    "**b. Digital Cash-or-nothing Call/Put**"
   ]
  },
  {
   "cell_type": "markdown",
   "id": "781bd8d9",
   "metadata": {},
   "source": [
    "The Black76 formula for a Digital cash or nothing call option is given by\n",
    "\n",
    "\\begin{equation}\n",
    "\\begin{split}\n",
    "C(F,K,r,\\sigma,T) &= e^{-rT} \\Phi(d_2)\\\\\n",
    "            d_1 &= \\frac{\\log \\frac{F_0}{K} +\n",
    "            \\left(\\frac{\\sigma^2}{2}\\right)T}{\\sigma\\sqrt{T}}, \\hspace{2cm} d_2 = d_1 - \\sigma\\sqrt{T}\\\\\n",
    "\\end{split}            \n",
    "\\end{equation}\n",
    "\n",
    "The formula can be implemented in Python as follows:"
   ]
  },
  {
   "cell_type": "code",
   "execution_count": 16,
   "id": "64e0997b",
   "metadata": {},
   "outputs": [],
   "source": [
    "def Black76_Digi_CON_Call(F0, K, r, sigma, T):\n",
    "    d1 = (np.log(F0/K) + (1/2*sigma**2*T)) / (sigma*np.sqrt(T))\n",
    "    d2 = d1 - (sigma*np.sqrt(T))\n",
    "    discount_factor = np.exp(-r*T)\n",
    "    return discount_factor*norm.cdf(d2)"
   ]
  },
  {
   "cell_type": "markdown",
   "id": "0d442e8f",
   "metadata": {},
   "source": [
    "The Black76 formula for a Digital cash or nothing put option is given by\n",
    "\n",
    "\\begin{equation}\n",
    "\\begin{split}\n",
    "P(F,K,r,\\sigma,T) &=  e^{-rT} \\Phi(-d_2) \\\\\n",
    "            d_1 &= \\frac{\\log \\frac{F_0}{K} +\n",
    "            \\left(\\frac{\\sigma^2}{2}\\right)T}{\\sigma\\sqrt{T}}, \\hspace{2cm} d_2 = d_1 - \\sigma\\sqrt{T}\\\\\n",
    "\\end{split}            \n",
    "\\end{equation}\n",
    "\n",
    "The formula can be implemented in Python as follows:"
   ]
  },
  {
   "cell_type": "code",
   "execution_count": 17,
   "id": "e475af0e",
   "metadata": {},
   "outputs": [],
   "source": [
    "def Black76_Digi_CON_Put(F0, k, r, sigma, T):\n",
    "    d1 = (np.log(F0/K) + (1/2*sigma**2*T)) / (sigma*np.sqrt(T))\n",
    "    d2 = d1 - (sigma*np.sqrt(T))\n",
    "    discount_factor = np.exp(-r*T)\n",
    "    return discount_factor*norm.cdf(-d2)"
   ]
  },
  {
   "cell_type": "markdown",
   "id": "57c64b5d",
   "metadata": {},
   "source": [
    "**c. Digital Asset-or-nothing Call/Put**"
   ]
  },
  {
   "cell_type": "markdown",
   "id": "8a6d1dda",
   "metadata": {},
   "source": [
    "The Black76 formula for a Digital asset or nothing call option is given by\n",
    "\n",
    "\\begin{equation}\n",
    "\\begin{split}\n",
    "C(F,K,r,\\sigma,T) &= F_0 e^{-rT} \\Phi(d_1)\\\\\n",
    "            d_1 &= \\frac{\\log \\frac{F_0}{K} +\n",
    "            \\left(\\frac{\\sigma^2}{2}\\right)T}{\\sigma\\sqrt{T}}, \\hspace{2cm} d_2 = d_1 - \\sigma\\sqrt{T}\\\\\n",
    "\\end{split}            \n",
    "\\end{equation}\n",
    "\n",
    "The formula can be implemented in Python as follows:"
   ]
  },
  {
   "cell_type": "code",
   "execution_count": 18,
   "id": "2e7f5ca2",
   "metadata": {},
   "outputs": [],
   "source": [
    "def Black76_Digi_AON_Call(F0, K, r, sigma, T):\n",
    "    d1 = (np.log(F0/K) + (1/2*sigma**2*T)) / (sigma*np.sqrt(T))\n",
    "    discount_factor = np.exp(-r*T)\n",
    "    return discount_factor*F0*norm.cdf(d1)"
   ]
  },
  {
   "cell_type": "markdown",
   "id": "96dab50f",
   "metadata": {},
   "source": [
    "The Black76 formula for a Digital asset or nothing put option is given by\n",
    "\n",
    "\\begin{equation}\n",
    "\\begin{split}\n",
    "P(F,K,r,\\sigma,T) &=  F_0 e^{-rT} \\Phi(-d_1)\\\\\n",
    "            d_1 &= \\frac{\\log \\frac{F_0}{K} +\n",
    "            \\left(\\frac{\\sigma^2}{2}\\right)T}{\\sigma\\sqrt{T}}, \\hspace{2cm} d_2 = d_1 - \\sigma\\sqrt{T}\\\\\n",
    "\\end{split}            \n",
    "\\end{equation}\n",
    "\n",
    "The formula can be implemented in Python as follows:"
   ]
  },
  {
   "cell_type": "code",
   "execution_count": 19,
   "id": "6a2e9602",
   "metadata": {},
   "outputs": [],
   "source": [
    "def Black76_Digi_AON_Put(F0, k, r, sigma, T):\n",
    "    d1 = (np.log(F0/K) + (1/2*sigma**2*T)) / (sigma*np.sqrt(T))\n",
    "    discount_factor = np.exp(-r*T)\n",
    "    return discount_factor*F0*norm.cdf(-d1)"
   ]
  },
  {
   "cell_type": "markdown",
   "id": "545502ba",
   "metadata": {},
   "source": [
    "## Displaced-diffusion model"
   ]
  },
  {
   "cell_type": "markdown",
   "id": "0c71d0d2",
   "metadata": {},
   "source": [
    "**a. Vanilla Call/Put**"
   ]
  },
  {
   "cell_type": "markdown",
   "id": "ccec14d6",
   "metadata": {},
   "source": [
    "The Displaced-diffusion formula for a vanilla call option is given by\n",
    "\n",
    "\\begin{equation}\n",
    "\\begin{split}\n",
    "C(F,K,r,\\sigma,T) &= \\frac{F_0}{\\beta} _0 e^{-rT} \\Phi(d_1) - (K+(1-\\beta)(\\frac{F_0}{\\beta})) e^{-rT} \\Phi(d_2)\\\\\n",
    "            d_1 &=\\frac{{\\frac{\\log \\frac{F_0}{\\beta}}{(K+(1-\\beta)(\\frac{F_0}{\\beta})} +\n",
    "            \\left(\\frac{\\beta^2\\sigma^2}{2}\\right)}{T}}{(\\beta)(\\sigma)(\\sqrt{T})}, \\hspace{2cm} d_2 = d_1 - (\\beta)(\\sigma)(\\sqrt{T})\\\\\n",
    "\\end{split}            \n",
    "\\end{equation}\n",
    "\n",
    "The formula can be implemented in Python as follows:"
   ]
  },
  {
   "cell_type": "code",
   "execution_count": 20,
   "id": "2635e8a1",
   "metadata": {},
   "outputs": [],
   "source": [
    "def DisplacedDiffusion_Call(sigma, F, K, B, T, r):\n",
    "    d1 = (np.log((F/B)/(K+(1-B)*F/B))+0.5*(B**2)*(sigma**2)*T)/(B*sigma*np.sqrt(T))\n",
    "    d2 = d1 - B*sigma*np.sqrt(T)\n",
    "    asset_or_nothing_call = F/B*(np.exp(-r*T))*norm.cdf(d1)\n",
    "    cash_or_nothing_call = (np.exp(-r*T))*norm.cdf(d2)\n",
    "    call = asset_or_nothing_call - (K+(1-B)*F/B)*cash_or_nothing_call\n",
    "    return call"
   ]
  },
  {
   "cell_type": "markdown",
   "id": "4383e00b",
   "metadata": {},
   "source": [
    "The Displaced-diffusion formula for a vanilla put option is given by\n",
    "\n",
    "\\begin{equation}\n",
    "\\begin{split}\n",
    "P(F,K,r,\\sigma,T) &= -\\frac{F_0}{\\beta} _0 e^{-rT} \\Phi(-d_1) + (K+(1-\\beta)(\\frac{F_0}{\\beta})) e^{-rT} \\Phi(-d_2)\\\\\n",
    "            d_1 &=\\frac{{\\frac{\\log \\frac{F_0}{\\beta}}{(K+(1-\\beta)(\\frac{F_0}{\\beta})} +\n",
    "            \\left(\\frac{\\beta^2\\sigma^2}{2}\\right)}{T}}{(\\beta)(\\sigma)(\\sqrt{T})}, \\hspace{2cm} d_2 = d_1 - (\\beta)(\\sigma)(\\sqrt{T})\\\\\n",
    "\\end{split}            \n",
    "\\end{equation}\n",
    "\n",
    "The formula can be implemented in Python as follows:"
   ]
  },
  {
   "cell_type": "code",
   "execution_count": 21,
   "id": "0c905870",
   "metadata": {},
   "outputs": [],
   "source": [
    "def DisplacedDiffusion_Put(sigma, F, K, B, T, r):\n",
    "    d1 = (np.log((F/B)/(K+(1-B)*F/B))+0.5*(B**2)*(sigma**2)*T)/(B*sigma*np.sqrt(T))\n",
    "    d2 = d1 - B*sigma*np.sqrt(T)\n",
    "    asset_or_nothing_put = F/B*(np.exp(-r*T))*norm.cdf(-d1)\n",
    "    cash_or_nothing_put = (np.exp(-r*T))*norm.cdf(-d2)\n",
    "    put = -asset_or_nothing_put + (K+(1-B)*F/B)*cash_or_nothing_put\n",
    "    return put"
   ]
  },
  {
   "cell_type": "markdown",
   "id": "40ac7407",
   "metadata": {},
   "source": [
    "**b. Digital Cash-or-nothing Call/Put**"
   ]
  },
  {
   "cell_type": "markdown",
   "id": "6b64e989",
   "metadata": {},
   "source": [
    "The Displaced-diffusion formula for a Digital cash or nothing call option is given by\n",
    "\n",
    "\\begin{equation}\n",
    "\\begin{split}\n",
    "C(F,K,r,\\sigma,T) &=  -e^{-rT} \\Phi(d_2)\\\\\n",
    "            d_1 &=\\frac{{\\frac{\\log \\frac{F_0}{\\beta}}{(K+(1-\\beta)(\\frac{F_0}{\\beta})} +\n",
    "            \\left(\\frac{\\beta^2\\sigma^2}{2}\\right)}{T}}{(\\beta)(\\sigma)(\\sqrt{T})}, \\hspace{2cm} d_2 = d_1 - (\\beta)(\\sigma)(\\sqrt{T})\n",
    "\\end{split}            \n",
    "\\end{equation}\n",
    "\n",
    "The formula can be implemented in Python as follows:"
   ]
  },
  {
   "cell_type": "code",
   "execution_count": 22,
   "id": "035e3275",
   "metadata": {},
   "outputs": [],
   "source": [
    "def DisplacedDiffusion_Call_Cash(sigma, F, K, B, T, r):\n",
    "    d1 = (np.log((F/B)/(K+(1-B)*F/B))+0.5*(B**2)*(sigma**2)*T)/(B*sigma*np.sqrt(T))\n",
    "    d2 = d1 - B*sigma*np.sqrt(T)\n",
    "    cash_or_nothing_call = -(np.exp(-r*T))*norm.cdf(d2)\n",
    "    return cash_or_nothing_call"
   ]
  },
  {
   "cell_type": "markdown",
   "id": "0c362080",
   "metadata": {},
   "source": [
    "The Displaced-diffusion formula for a Digital cash or nothing put option is given by\n",
    "\n",
    "\\begin{equation}\n",
    "\\begin{split}\n",
    "P(F,K,r,\\sigma,T) &=  e^{-rT} \\Phi(-d_2)\\\\\n",
    "            d_1 &=\\frac{{\\frac{\\log \\frac{F_0}{\\beta}}{(K+(1-\\beta)(\\frac{F_0}{\\beta})} +\n",
    "            \\left(\\frac{\\beta^2\\sigma^2}{2}\\right)}{T}}{(\\beta)(\\sigma)(\\sqrt{T})}, \\hspace{2cm} d_2 = d_1 - (\\beta)(\\sigma)(\\sqrt{T})\n",
    "\\end{split}            \n",
    "\\end{equation}\n",
    "\n",
    "The formula can be implemented in Python as follows:"
   ]
  },
  {
   "cell_type": "code",
   "execution_count": 23,
   "id": "562116b5",
   "metadata": {},
   "outputs": [],
   "source": [
    "def DisplacedDiffusion_Put_Cash(sigma, F, K, B, T, r):\n",
    "    d1 = (np.log((F/B)/(K+(1-B)*F/B))+0.5*(B**2)*(sigma**2)*T)/(B*sigma*np.sqrt(T))\n",
    "    d2 = d1 - B*sigma*np.sqrt(T)\n",
    "    cash_or_nothing_put = (np.exp(-r*T))*norm.cdf(-d2)\n",
    "    return cash_or_nothing_put"
   ]
  },
  {
   "cell_type": "markdown",
   "id": "41a0531a",
   "metadata": {},
   "source": [
    "**c. Digital Asset-or-nothing Call/Put**"
   ]
  },
  {
   "cell_type": "markdown",
   "id": "0ecb3af4",
   "metadata": {},
   "source": [
    "The Displaced-diffusion formula for a Digital asset or nothing call option is given by\n",
    "\n",
    "\\begin{equation}\n",
    "\\begin{split}\n",
    "C(F,K,r,\\sigma,T) &=  \\frac{F_0}{\\beta} _0 e^{-rT} \\Phi(d_1)\\\\\n",
    "            d_1 &=\\frac{{\\frac{\\log \\frac{F_0}{\\beta}}{(K+(1-\\beta)(\\frac{F_0}{\\beta})} +\n",
    "            \\left(\\frac{\\beta^2\\sigma^2}{2}\\right)}{T}}{(\\beta)(\\sigma)(\\sqrt{T})}, \\hspace{2cm} d_2 = d_1 - (\\beta)(\\sigma)(\\sqrt{T})\n",
    "\\end{split}            \n",
    "\\end{equation}\n",
    "\n",
    "The formula can be implemented in Python as follows:"
   ]
  },
  {
   "cell_type": "code",
   "execution_count": 24,
   "id": "a6aa31b8",
   "metadata": {},
   "outputs": [],
   "source": [
    "def DisplacedDiffusion_Call_Asset(sigma, F, K, B, T, r):\n",
    "    d1 = (np.log((F/B)/(K+(1-B)*F/B))+0.5*(B**2)*(sigma**2)*T)/(B*sigma*np.sqrt(T))\n",
    "    d2 = d1 - B*sigma*np.sqrt(T)\n",
    "    asset_or_nothing_call = F/B*(np.exp(-r*T))*norm.cdf(d1)\n",
    "    return asset_or_nothing_call"
   ]
  },
  {
   "cell_type": "markdown",
   "id": "cc0e08c3",
   "metadata": {},
   "source": [
    "The Displaced-diffusion formula for a Digital asset or nothing put option is given by\n",
    "\n",
    "\\begin{equation}\n",
    "\\begin{split}\n",
    "P(F,K,r,\\sigma,T) &=  -\\frac{F_0}{\\beta} _0 e^{-rT} \\Phi(-d_1)\\\\\n",
    "            d_1 &=\\frac{{\\frac{\\log \\frac{F_0}{\\beta}}{(K+(1-\\beta)(\\frac{F_0}{\\beta})} +\n",
    "            \\left(\\frac{\\beta^2\\sigma^2}{2}\\right)}{T}}{(\\beta)(\\sigma)(\\sqrt{T})}, \\hspace{2cm} d_2 = d_1 - (\\beta)(\\sigma)(\\sqrt{T})\n",
    "\\end{split}            \n",
    "\\end{equation}\n",
    "\n",
    "The formula can be implemented in Python as follows:"
   ]
  },
  {
   "cell_type": "code",
   "execution_count": 25,
   "id": "8a846156",
   "metadata": {},
   "outputs": [],
   "source": [
    "def DisplacedDiffusion_Put_Asset(sigma, F, K, B, T, r):\n",
    "    d1 = (np.log((F/B)/(K+(1-B)*F/B))+0.5*(B**2)*(sigma**2)*T)/(B*sigma*np.sqrt(T))\n",
    "    d2 = d1 - B*sigma*np.sqrt(T)\n",
    "    asset_or_nothing_put = -F/B*(np.exp(-r*T))*norm.cdf(-d1)\n",
    "    return asset_or_nothing_put"
   ]
  }
 ],
 "metadata": {
  "kernelspec": {
   "display_name": "Python 3",
   "language": "python",
   "name": "python3"
  },
  "language_info": {
   "codemirror_mode": {
    "name": "ipython",
    "version": 3
   },
   "file_extension": ".py",
   "mimetype": "text/x-python",
   "name": "python",
   "nbconvert_exporter": "python",
   "pygments_lexer": "ipython3",
   "version": "3.8.8"
  }
 },
 "nbformat": 4,
 "nbformat_minor": 5
}
